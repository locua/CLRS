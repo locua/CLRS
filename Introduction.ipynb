{
 "cells": [
  {
   "cell_type": "code",
   "execution_count": 8,
   "id": "parental-seller",
   "metadata": {},
   "outputs": [
    {
     "name": "stdout",
     "output_type": "stream",
     "text": [
      "input:   [520, 429, 253, 697, 658, 667, 276, 328, 878, 947, 296, 52, 379, 599, 620, 195, 767, 732, 40, 780]\n",
      "output:  [40, 52, 195, 253, 276, 296, 328, 379, 429, 520, 599, 620, 658, 667, 697, 732, 767, 780, 878, 947]\n"
     ]
    }
   ],
   "source": [
    "import random\n",
    "B = random.sample(range(0, 1000), 20)\n",
    "print(\"input:  \", B)\n",
    "\n",
    "def insertion_sort(A):\n",
    "    for j in range(1, len(A)):\n",
    "        key = A[j]\n",
    "        i = j - 1\n",
    "        while i >= 0 and A[i] > key:\n",
    "            A[i+1] = A[i]\n",
    "            i = i - 1\n",
    "        A[i+1] = key\n",
    "    return A\n",
    "\n",
    "print(\"output: \", insertion_sort(B))"
   ]
  },
  {
   "cell_type": "code",
   "execution_count": null,
   "id": "spiritual-saturday",
   "metadata": {},
   "outputs": [],
   "source": []
  }
 ],
 "metadata": {
  "kernelspec": {
   "display_name": "Python 3",
   "language": "python",
   "name": "python3"
  },
  "language_info": {
   "codemirror_mode": {
    "name": "ipython",
    "version": 3
   },
   "file_extension": ".py",
   "mimetype": "text/x-python",
   "name": "python",
   "nbconvert_exporter": "python",
   "pygments_lexer": "ipython3",
   "version": "3.8.5"
  }
 },
 "nbformat": 4,
 "nbformat_minor": 5
}
