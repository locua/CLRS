{
 "cells": [
  {
   "cell_type": "code",
   "execution_count": 2,
   "id": "mechanical-count",
   "metadata": {},
   "outputs": [],
   "source": [
    "import pdb"
   ]
  },
  {
   "cell_type": "markdown",
   "id": "opening-tennessee",
   "metadata": {},
   "source": [
    "# Insertion sort\n",
    "## Initial analysis\n",
    "- Best case: A linear function of n: $\\Theta (n)$\n",
    "- Worst case: A quadratic function of n: $\\Theta(n^2)$\n",
    "- With insertion sort the average case is the same as the worst case\n"
   ]
  },
  {
   "cell_type": "code",
   "execution_count": 1,
   "id": "atlantic-craft",
   "metadata": {},
   "outputs": [
    {
     "name": "stdout",
     "output_type": "stream",
     "text": [
      "input:   [330, 540, 197, 209, 142, 949, 671, 613, 166, 100, 883, 77, 437, 294, 97, 530, 42, 674, 680, 655]\n",
      "output:  [42, 77, 97, 100, 142, 166, 197, 209, 294, 330, 437, 530, 540, 613, 655, 671, 674, 680, 883, 949]\n"
     ]
    }
   ],
   "source": [
    "import random                          \n",
    "B = random.sample(range(0, 1000), 20)\n",
    "print(\"input:  \", B)\n",
    "\n",
    "def insertion_sort(A):\n",
    "    for j in range(1, len(A)):\n",
    "        key = A[j]\n",
    "        i = j - 1\n",
    "        while i >= 0 and A[i] > key:\n",
    "            A[i+1] = A[i]\n",
    "            i = i - 1\n",
    "        A[i+1] = key\n",
    "    return A\n",
    "\n",
    "print(\"output: \", insertion_sort(B))"
   ]
  },
  {
   "cell_type": "markdown",
   "id": "chicken-confidence",
   "metadata": {},
   "source": [
    "# Selection sort\n",
    "Assuming constant time:\n",
    "\n",
    "$ 5n + (n-1)n + (n-1)n + (n-1)n + 1 $\n",
    "\n",
    "$ \\implies 5n + 3(n-1)n  + 1 $\n",
    "\n",
    "$ \\implies n^2 + 2n + 1 $\n",
    "\n",
    "$\\therefore$ the complexity is $\\Theta \\ (n^2)$"
   ]
  },
  {
   "cell_type": "code",
   "execution_count": 125,
   "id": "identified-anniversary",
   "metadata": {},
   "outputs": [
    {
     "name": "stdout",
     "output_type": "stream",
     "text": [
      "input:   [53, 0, 45, 22, 57, 4, 75, 63, 3, 93]\n",
      "output:  [0, 3, 4, 22, 45, 53, 57, 63, 75, 93]\n"
     ]
    }
   ],
   "source": [
    "# Selection sort\n",
    "B = random.sample(range(0, 100), 10)\n",
    "# B = [3, 4, 1, 5]\n",
    "print(\"input:  \", B)\n",
    "\n",
    "def selection_sort(A):                       # times\n",
    "    for j in range(0, len(A)):                # n\n",
    "        min_index = j                         # n\n",
    "        for i in range(j+1, len(A)-1):        # (n-1) * n\n",
    "            if A[i] < A[min_index]:           # (n-1) * n\n",
    "                min_index = i                 # (n-1) * n (worst case)\n",
    "        tmp = A[j]                            # n \n",
    "        A[j] = A[min_index]                   # n\n",
    "        A[min_index] = tmp                    # n\n",
    "    return A                                  # 1\n",
    "\n",
    "# pdb.run('print(\"output: \", selection_sort(B))')\n",
    "print(\"output: \", selection_sort(B))"
   ]
  },
  {
   "cell_type": "markdown",
   "id": "painted-occupation",
   "metadata": {},
   "source": [
    "# Linear search\n",
    "- Average complexity target is halfway along array: $\\Theta \\ (\\frac{n+1}{2})$\n",
    "- Worst case. The scenario where the target is not in the array:         $\\Theta \\ (n)$ \n",
    "\n",
    "## Loop invariant for linear search\n",
    "### Initialisation:\n",
    "A list is initialised to contain all instances of the target element. If the list is empty at the end the search will return \"Not found\".\n",
    "### Maintenance:\n",
    "The if statement checks each value against the target value. If it is found it is stored.\n",
    "### Terminations:\n",
    "The for loop terminates when it when it reaches the end of its range. There is no other reason for it to end as it will find all instances of the value."
   ]
  },
  {
   "cell_type": "code",
   "execution_count": 455,
   "id": "dress-grant",
   "metadata": {},
   "outputs": [
    {
     "name": "stdout",
     "output_type": "stream",
     "text": [
      "Found 2 at index 0\n",
      "Found 2 at index 6\n",
      "Found 2 at index 7\n",
      "Found 2 at index 8\n"
     ]
    }
   ],
   "source": [
    "# Linear search\n",
    "sample_size = 10000\n",
    "B = random.sample(range(0, sample_size), sample_size)\n",
    "B = [2, 3, 4, 5, 4, 3, 2, 2, 2, 3]\n",
    "target_val = random.randint(-sample_size, sample_size)\n",
    "target_val = 2\n",
    "\n",
    "def linear_search(A, target):\n",
    "    found = []\n",
    "    for i, val in enumerate(A):\n",
    "        if(val==target):\n",
    "            print(\"Found %d at index %d\"%(val, i))\n",
    "            found.append( {\"Value\": val, \"Index\": i} )\n",
    "    if(len(found)==0):\n",
    "        return \"Value not in list\"\n",
    "\n",
    "linear_search(B, target_val)"
   ]
  },
  {
   "cell_type": "markdown",
   "id": "complicated-booth",
   "metadata": {},
   "source": [
    "# Merge sort\n",
    "\n",
    "## C implementation\n",
    "```c\n",
    "#include <math.h>\n",
    "#include <stdio.h>\n",
    "\n",
    "void MERGE(int arr[], int low, int mid, int high){\n",
    "    int n1 = mid - low + 1;\n",
    "    int n2 = high - mid;      \n",
    "    float L[n1+1], R[n2+1];\n",
    "\n",
    "    for(int i = 0; i < n1; i++){\n",
    "        L[i] = arr[low + i];\n",
    "    }\n",
    "    for(int j = 0; j < n2; j++){\n",
    "        R[j] = arr[mid + j+1];\n",
    "    }\n",
    "    L[n1] = INFINITY;\n",
    "    R[n2] = INFINITY;\n",
    "    int i = 0, j = 0;\n",
    "\n",
    "    for(int k = low; k <= high; k++){\n",
    "        if(L[i] <= R[j]){\n",
    "            arr[k] = L[i];\n",
    "            i = i + 1;\n",
    "        }\n",
    "        else {\n",
    "            arr[k] = R[j];\n",
    "            j = j + 1;\n",
    "        }\n",
    "    }\n",
    "} \n",
    "\n",
    "void MERGE_SORT(int arr[], int low, int high){\n",
    "    if(low < high){\n",
    "        int mid = floor((low+high)/2);\n",
    "        MERGE_SORT(arr, low, mid);\n",
    "        MERGE_SORT(arr, mid+1, high);\n",
    "        MERGE(arr, low, mid, high);\n",
    "    } \n",
    "}\n",
    "\n",
    "void printArr(int arr[], int size){\n",
    "    int i = 0;\n",
    "    for(i = 0; i < size; i++)\n",
    "        printf(\"%d \", arr[i]);\n",
    "    printf(\"\\n\");\n",
    "} \n",
    "\n",
    "int main()\n",
    "{\n",
    "    int arr[5] = {4, 3, 1, 8, 7};\n",
    "    int arr_size = sizeof(arr) / sizeof(arr[0]);\n",
    "    printArr(arr, arr_size);\n",
    "    MERGE_SORT(arr, 0, arr_size-1);\n",
    "    printArr(arr, arr_size);\n",
    "    return 0;\n",
    "} \n",
    "```"
   ]
  },
  {
   "cell_type": "code",
   "execution_count": 466,
   "id": "clean-tongue",
   "metadata": {},
   "outputs": [
    {
     "name": "stdout",
     "output_type": "stream",
     "text": [
      "input:   [3, 5, 7, 6, 9, 4, 2, 0, 1, 8]\n"
     ]
    },
    {
     "ename": "IndexError",
     "evalue": "list assignment index out of range",
     "output_type": "error",
     "traceback": [
      "\u001b[0;31m---------------------------------------------------------------------------\u001b[0m",
      "\u001b[0;31mIndexError\u001b[0m                                Traceback (most recent call last)",
      "\u001b[0;32m<ipython-input-466-db4b3dbf6f47>\u001b[0m in \u001b[0;36m<module>\u001b[0;34m\u001b[0m\n\u001b[1;32m     25\u001b[0m \u001b[0;34m\u001b[0m\u001b[0m\n\u001b[1;32m     26\u001b[0m \u001b[0;34m\u001b[0m\u001b[0m\n\u001b[0;32m---> 27\u001b[0;31m \u001b[0mMERGE\u001b[0m\u001b[0;34m(\u001b[0m\u001b[0mB\u001b[0m\u001b[0;34m,\u001b[0m \u001b[0;36m1\u001b[0m\u001b[0;34m,\u001b[0m \u001b[0;36m2\u001b[0m\u001b[0;34m,\u001b[0m \u001b[0;36m3\u001b[0m\u001b[0;34m)\u001b[0m\u001b[0;34m\u001b[0m\u001b[0;34m\u001b[0m\u001b[0m\n\u001b[0m\u001b[1;32m     28\u001b[0m \u001b[0;34m\u001b[0m\u001b[0m\n\u001b[1;32m     29\u001b[0m \u001b[0;31m# float('inf')\u001b[0m\u001b[0;34m\u001b[0m\u001b[0;34m\u001b[0m\u001b[0;34m\u001b[0m\u001b[0m\n",
      "\u001b[0;32m<ipython-input-466-db4b3dbf6f47>\u001b[0m in \u001b[0;36mMERGE\u001b[0;34m(A, p, q, r)\u001b[0m\n\u001b[1;32m     12\u001b[0m     \u001b[0;32mfor\u001b[0m \u001b[0mj\u001b[0m \u001b[0;32min\u001b[0m \u001b[0mrange\u001b[0m\u001b[0;34m(\u001b[0m\u001b[0mn2\u001b[0m\u001b[0;34m)\u001b[0m\u001b[0;34m:\u001b[0m\u001b[0;34m\u001b[0m\u001b[0;34m\u001b[0m\u001b[0m\n\u001b[1;32m     13\u001b[0m         \u001b[0mr\u001b[0m\u001b[0;34m[\u001b[0m\u001b[0mj\u001b[0m\u001b[0;34m]\u001b[0m \u001b[0;34m=\u001b[0m \u001b[0mA\u001b[0m\u001b[0;34m[\u001b[0m\u001b[0mq\u001b[0m\u001b[0;34m+\u001b[0m\u001b[0mj\u001b[0m\u001b[0;34m]\u001b[0m\u001b[0;34m\u001b[0m\u001b[0;34m\u001b[0m\u001b[0m\n\u001b[0;32m---> 14\u001b[0;31m     \u001b[0ml\u001b[0m\u001b[0;34m[\u001b[0m\u001b[0mn1\u001b[0m\u001b[0;34m+\u001b[0m\u001b[0;36m1\u001b[0m\u001b[0;34m]\u001b[0m \u001b[0;34m=\u001b[0m \u001b[0mfloat\u001b[0m\u001b[0;34m(\u001b[0m\u001b[0;34m'inf'\u001b[0m\u001b[0;34m)\u001b[0m\u001b[0;34m\u001b[0m\u001b[0;34m\u001b[0m\u001b[0m\n\u001b[0m\u001b[1;32m     15\u001b[0m     \u001b[0mr\u001b[0m\u001b[0;34m[\u001b[0m\u001b[0mn2\u001b[0m\u001b[0;34m+\u001b[0m\u001b[0;36m1\u001b[0m\u001b[0;34m]\u001b[0m \u001b[0;34m=\u001b[0m \u001b[0mfloat\u001b[0m\u001b[0;34m(\u001b[0m\u001b[0;34m'inf'\u001b[0m\u001b[0;34m)\u001b[0m\u001b[0;34m\u001b[0m\u001b[0;34m\u001b[0m\u001b[0m\n\u001b[1;32m     16\u001b[0m     \u001b[0mi\u001b[0m \u001b[0;34m=\u001b[0m \u001b[0;36m1\u001b[0m\u001b[0;34m\u001b[0m\u001b[0;34m\u001b[0m\u001b[0m\n",
      "\u001b[0;31mIndexError\u001b[0m: list assignment index out of range"
     ]
    }
   ],
   "source": [
    "sample_size = 10\n",
    "B = random.sample(range(0, sample_size), sample_size)\n",
    "print(\"input:  \", B)\n",
    "\n",
    "def MERGE(A, p, q, r):\n",
    "    n1 = q - p + 1\n",
    "    n2 = r - q\n",
    "    l = [] # A[:n1+1]\n",
    "    r = [] # A[:n2+1]\n",
    "    for i in range(n1):\n",
    "        l.append(A[p+i-1])\n",
    "    for j in range(n2):\n",
    "        r.append(A[q+j])\n",
    "    l[n1+1] = float('inf')\n",
    "    r[n2+1] = float('inf')\n",
    "    i = 1\n",
    "    j = 1\n",
    "    for k in range(p, r):\n",
    "        if l[i] <= r[j]:\n",
    "            A[k] = l[i]\n",
    "            i+=1\n",
    "        else:\n",
    "            A[k] = r[j]\n",
    "            j+=1\n",
    "    \n",
    "def MERGE_SORT(A, p, r):\n",
    "    if p < r:\n",
    "        a = \n",
    "\n",
    "# float('inf')"
   ]
  }
 ],
 "metadata": {
  "kernelspec": {
   "display_name": "Python 3",
   "language": "python",
   "name": "python3"
  },
  "language_info": {
   "codemirror_mode": {
    "name": "ipython",
    "version": 3
   },
   "file_extension": ".py",
   "mimetype": "text/x-python",
   "name": "python",
   "nbconvert_exporter": "python",
   "pygments_lexer": "ipython3",
   "version": "3.8.5"
  }
 },
 "nbformat": 4,
 "nbformat_minor": 5
}
