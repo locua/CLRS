{
 "cells": [
  {
   "cell_type": "code",
   "execution_count": 2,
   "id": "finnish-connection",
   "metadata": {},
   "outputs": [],
   "source": [
    "import pdb"
   ]
  },
  {
   "cell_type": "code",
   "execution_count": 1,
   "id": "separated-surrey",
   "metadata": {},
   "outputs": [
    {
     "name": "stdout",
     "output_type": "stream",
     "text": [
      "input:   [330, 540, 197, 209, 142, 949, 671, 613, 166, 100, 883, 77, 437, 294, 97, 530, 42, 674, 680, 655]\n",
      "output:  [42, 77, 97, 100, 142, 166, 197, 209, 294, 330, 437, 530, 540, 613, 655, 671, 674, 680, 883, 949]\n"
     ]
    }
   ],
   "source": [
    "import random                          \n",
    "B = random.sample(range(0, 1000), 20)\n",
    "print(\"input:  \", B)\n",
    "\n",
    "def insertion_sort(A):\n",
    "    for j in range(1, len(A)):\n",
    "        key = A[j]\n",
    "        i = j - 1\n",
    "        while i >= 0 and A[i] > key:\n",
    "            A[i+1] = A[i]\n",
    "            i = i - 1\n",
    "        A[i+1] = key\n",
    "    return A\n",
    "\n",
    "print(\"output: \", insertion_sort(B))"
   ]
  },
  {
   "cell_type": "markdown",
   "id": "portuguese-center",
   "metadata": {},
   "source": [
    "# Insertion sort\n",
    "## Initial analysis\n",
    "- Best case: A linear function of n: $\\Theta (n)$\n",
    "- Worst case: A quadratic function of n: $\\Theta(n^2)$\n",
    "- With insertion sort the average case is the same as the worst case\n"
   ]
  },
  {
   "cell_type": "code",
   "execution_count": 124,
   "id": "descending-event",
   "metadata": {},
   "outputs": [
    {
     "name": "stdout",
     "output_type": "stream",
     "text": [
      "input:   [77, 72, 73, 94, 53, 42, 74, 27, 44, 14]\n",
      "output:  [27, 42, 44, 53, 72, 73, 74, 77, 94, 14]\n"
     ]
    }
   ],
   "source": [
    "# Selection sort\n",
    "B = random.sample(range(0, 100), 10)\n",
    "# B = [3, 4, 1, 5]\n",
    "print(\"input:  \", B)\n",
    "\n",
    "def selection_sort(A):                       # times\n",
    "    for j in range(0, len(A)):                # n\n",
    "        min_index = j                         # n\n",
    "        for i in range(j+1, len(A)-1):        # (n-1) * n\n",
    "            if A[i] < A[min_index]:           # (n-1) * n\n",
    "                min_index = i                 # (n-1) * n (worst case)\n",
    "        tmp = A[j]                            # n \n",
    "        A[j] = A[min_index]                   # n\n",
    "        A[min_index] = tmp                    # n\n",
    "    return A                                  # 1\n",
    "\n",
    "# pdb.run('print(\"output: \", selection_sort(B))')\n",
    "print(\"output: \", selection_sort(B))"
   ]
  },
  {
   "cell_type": "markdown",
   "id": "endangered-album",
   "metadata": {},
   "source": [
    "# Selection sort\n",
    "Assuming constant time:\n",
    "\n",
    "$ 5n + (n-1)n + (n-1)n + (n-1)n + 1 $\n",
    "\n",
    "$ \\implies 5n + 3(n-1)n  + 1 $\n",
    "\n",
    "$ \\implies n^2 + 2n + 1 $\n",
    "\n",
    "Therefore the complexity is $\\Theta \\ (n^2)$"
   ]
  }
 ],
 "metadata": {
  "kernelspec": {
   "display_name": "Python 3",
   "language": "python",
   "name": "python3"
  },
  "language_info": {
   "codemirror_mode": {
    "name": "ipython",
    "version": 3
   },
   "file_extension": ".py",
   "mimetype": "text/x-python",
   "name": "python",
   "nbconvert_exporter": "python",
   "pygments_lexer": "ipython3",
   "version": "3.8.5"
  }
 },
 "nbformat": 4,
 "nbformat_minor": 5
}
